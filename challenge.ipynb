{
 "cells": [
  {
   "cell_type": "markdown",
   "source": "## NHL Stats Challenge\n\n> If you have not had a chance to check out the [Lazy Guide to Web Scraping](https://github.com/sportsdatasolutions/sport_x_code_eis/blob/master/3.projects/LazyGuides/web_scraping.md) please do so! You can find the code for the guide in this [Deepnote Project](https://deepnote.com/project/0d7f30b4-7eb4-4d7e-b601-28085e59e0d3#%2F1.OpenAPI.ipynb).\n\n#### The challenge is to simply scrape the **Skaters Stats Table** with stats from the [**combined 18/19 and 19/20 season playoffs**](http://www.nhl.com/stats/skaters?reportType=season&seasonFrom=20182019&seasonTo=20192020&gameType=3&filter=gamesPlayed,gte,1&sort=points,goals,assists&page=0&pageSize=50).\n1. ##### **Start** by ***using the Network Tool*** on your ```browser``` to identify any possible requests for the data in the table.\n\n2. ##### **Copy** and **Paste** the ***request url*** into a new tab on your **browser** to see if you can access the API without the actual website.\n\n3. ##### **Make call(s)** for the relevant data via [`requests`.](https://requests.readthedocs.io/en/master/)\n\n4. ##### **Create** a Pandas **Dataframe** containing the **data**.\n\n5. ##### **Make sure you have ALL the data**. You'll notice that the table has a total of **583 records**. Does yours?\n\n    **Hint:** The table is **paginated**, and **so is the API**. Pay attention to the **Request URL Parameters**. Have a play around with the **values** given to the **`page`** and **`pageSize`** parameters.\n\n\n6. ##### **Save** the Dataframe to a new **CSV** file within the `data` folder.\n",
   "metadata": {
    "tags": [],
    "output_cleared": false,
    "cell_id": "00000-844e0a68-d76e-4d9a-b442-5dff1a5499c2",
    "deepnote_cell_type": "markdown"
   }
  },
  {
   "cell_type": "code",
   "metadata": {
    "output_cleared": false,
    "source_hash": "501b313b",
    "execution_millis": 4,
    "cell_id": "00001-514f9a9f-baeb-49fc-ac7b-4900b64a3dbb",
    "execution_start": 1622569432442,
    "deepnote_to_be_reexecuted": false,
    "deepnote_cell_type": "code"
   },
   "source": "# import required libraries\nimport requests\nimport json\nimport pandas as pd\n\n#define number of page iterations needed to see all 583 records\nstart_values=list(range(0,12))\n\n#define url strings pre (url1) and post (url2) start page number\nurl1 = \"https://api.nhle.com/stats/rest/en/skater/summary?isAggregate=true&isGame=false&sort=%5B%7B%22property%22:%22points%22,%22direction%22:%22DESC%22%7D,%7B%22property%22:%22goals%22,%22direction%22:%22DESC%22%7D,%7B%22property%22:%22assists%22,%22direction%22:%22DESC%22%7D%5D&start=\"\nurl2 = \"&limit=50&factCayenneExp=gamesPlayed%3E=1&cayenneExp=gameTypeId=3%20and%20seasonId%3C=20192020%20and%20seasonId%3E=20182019\"\n\n\n",
   "execution_count": 29,
   "outputs": []
  },
  {
   "cell_type": "code",
   "source": "   ## checking nested structure of extracted data\n   # url = url1 + start_string[0] + url2\n   # nhl_data_part = requests.get(url).json()\n   # print(nhl_data_part.keys())\n   # table_data1 = nhl_data_part.get(\"data\")",
   "metadata": {
    "tags": [],
    "cell_id": "00003-a18ea7c6-bbce-45bc-b450-e44164adfa60",
    "deepnote_to_be_reexecuted": false,
    "source_hash": "757605be",
    "execution_start": 1622568605254,
    "execution_millis": 214,
    "deepnote_cell_type": "code"
   },
   "outputs": [
    {
     "name": "stdout",
     "text": "dict_keys(['data', 'total'])\n",
     "output_type": "stream"
    }
   ],
   "execution_count": 15
  },
  {
   "cell_type": "code",
   "source": "#loop through different start pages\nfor start_value in start_values:\n    #create new url\n    #convert page number to str\n    start_string = str(start_value)\n    #combine strings to form url\n    url = url1 + start_string + url2\n    #request data as json format\n    nhl_data_part = requests.get(url).json()\n    #take \"data\" key from the extracted dictionary\n    table_data1 = nhl_data_part.get(\"data\")\n    #convert into a dataframe\n    nhl_dataframe_part = pd.DataFrame.from_dict(table_data1)\n    #if first iteration create new variable as extracted data\n    if start_value == 0:\n        nhl_dataframe=nhl_dataframe_part\n    #else append data from new iteration to that of previous iteration\n    else:\n        nhl_dataframe = nhl_dataframe.append(nhl_dataframe_part,ignore_index=True)",
   "metadata": {
    "tags": [],
    "cell_id": "00004-a2bd5a2e-358b-4d1d-8add-86a54f751f93",
    "deepnote_to_be_reexecuted": false,
    "source_hash": "58a9b92d",
    "execution_start": 1622569436586,
    "execution_millis": 1210,
    "deepnote_cell_type": "code"
   },
   "outputs": [],
   "execution_count": 30
  },
  {
   "cell_type": "code",
   "source": "nhl_dataframe.to_csv('data/nhl_data.csv')",
   "metadata": {
    "tags": [],
    "cell_id": "00004-d0bffbb8-f367-4dce-a7fd-bfa0b8b7a5f0",
    "deepnote_to_be_reexecuted": false,
    "source_hash": "4b2072ae",
    "execution_start": 1622570236404,
    "execution_millis": 7,
    "deepnote_cell_type": "code"
   },
   "outputs": [],
   "execution_count": 39
  },
  {
   "cell_type": "markdown",
   "source": "<a style='text-decoration:none;line-height:16px;display:flex;color:#5B5B62;padding:10px;justify-content:end;' href='https://deepnote.com?utm_source=created-in-deepnote-cell&projectId=e188a3d3-d9fb-43a6-a297-8fc54b7562e6' target=\"_blank\">\n<img alt='Created in deepnote.com' style='display:inline;max-height:16px;margin:0px;margin-right:7.5px;' src='data:image/svg+xml;base64,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' > </img>\nCreated in <span style='font-weight:600;margin-left:4px;'>Deepnote</span></a>",
   "metadata": {
    "tags": [],
    "created_in_deepnote_cell": true,
    "deepnote_cell_type": "markdown"
   }
  }
 ],
 "nbformat": 4,
 "nbformat_minor": 2,
 "metadata": {
  "kernelspec": {
   "display_name": "Python 3",
   "language": "python",
   "name": "python3"
  },
  "language_info": {
   "codemirror_mode": {
    "name": "ipython",
    "version": 3
   },
   "file_extension": ".py",
   "mimetype": "text/x-python",
   "name": "python",
   "nbconvert_exporter": "python",
   "pygments_lexer": "ipython3",
   "version": "3.6.3"
  },
  "deepnote_notebook_id": "eb0afcfd-56b3-4774-8096-d40ffa61b2ee",
  "deepnote_execution_queue": [],
  "deepnote": {}
 }
}